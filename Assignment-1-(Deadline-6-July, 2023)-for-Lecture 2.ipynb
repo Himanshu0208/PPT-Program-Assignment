{
 "cells": [
  {
   "cell_type": "markdown",
   "id": "5713f570",
   "metadata": {},
   "source": [
    "## Ques 1 - 20\n",
    "1. Write a Python program to reverse a string without using any built-in string reversal functions.\n",
    "2. Implement a function to check if a given string is a palindrome.\n",
    "3. Write a program to find the largest element in a given list.\n",
    "4. Implement a function to count the occurrence of each element in a list.\n",
    "5. Write a Python program to find the second largest number in a list.\n",
    "6. Implement a function to remove duplicate elements from a list.\n",
    "7. Write a program to calculate the factorial of a given number.\n",
    "8. Implement a function to check if a given number is prime.\n",
    "9. Write a Python program to sort a list of integers in ascending order.\n",
    "10. Implement a function to find the sum of all numbers in a list.\n",
    "11. Write a program to find the common elements between two lists.\n",
    "12. Implement a function to check if a given string is an anagram of another string.\n",
    "13. Write a Python program to generate all permutations of a given string.\n",
    "14. Implement a function to calculate the Fibonacci sequence up to a given number of terms.\n",
    "15. Write a program to find the median of a list of numbers.\n",
    "16. Implement a function to check if a given list is sorted in non-decreasing order.\n",
    "17. Write a Python program to find the intersection of two lists.\n",
    "18. Implement a function to find the maximum subarray sum in a given list.\n",
    "19. Write a program to remove all vowels from a given string.\n",
    "20. Implement a function to reverse the order of words in a given sentence.\n"
   ]
  },
  {
   "cell_type": "code",
   "execution_count": 1,
   "id": "7e31fb36",
   "metadata": {},
   "outputs": [
    {
     "data": {
      "text/plain": [
       "'dlrow olleh'"
      ]
     },
     "execution_count": 1,
     "metadata": {},
     "output_type": "execute_result"
    }
   ],
   "source": [
    "# ques 1\n",
    "str1 = \"hello world\"\n",
    "str1[::-1]"
   ]
  },
  {
   "cell_type": "code",
   "execution_count": 2,
   "id": "46efa76e",
   "metadata": {},
   "outputs": [
    {
     "name": "stdout",
     "output_type": "stream",
     "text": [
      "himanshu is not a palindrome\n",
      "nitin is a palindrome\n"
     ]
    }
   ],
   "source": [
    "# Ques 2\n",
    "def check_palindrome(string):\n",
    "    return string == string[::-1]\n",
    "\n",
    "mylist1=[\"himanshu\",\"nitin\"]\n",
    "\n",
    "for i in mylist1:\n",
    "    print(f\"{i} is\",end=\" \")\n",
    "    if(check_palindrome(i)):\n",
    "        print(\"a palindrome\")\n",
    "    else :\n",
    "        print(\"not a palindrome\")"
   ]
  },
  {
   "cell_type": "code",
   "execution_count": null,
   "id": "ba2b1882",
   "metadata": {},
   "outputs": [
    {
     "name": "stdout",
     "output_type": "stream",
     "text": [
      "maximum of the list is 30\n"
     ]
    }
   ],
   "source": [
    "# Ques 3\n",
    "mylist2 = [10,20,4,30,12,9,20,9,4]\n",
    "print(f\"maximum of the list is {max(mylist2)}\")"
   ]
  },
  {
   "cell_type": "code",
   "execution_count": 4,
   "id": "89af53f8",
   "metadata": {
    "scrolled": true
   },
   "outputs": [
    {
     "name": "stdout",
     "output_type": "stream",
     "text": [
      "10 has occured 1 times in mylist2\n",
      "20 has occured 2 times in mylist2\n",
      "4 has occured 2 times in mylist2\n",
      "30 has occured 1 times in mylist2\n",
      "12 has occured 1 times in mylist2\n",
      "9 has occured 2 times in mylist2\n"
     ]
    }
   ],
   "source": [
    "# Ques 4\n",
    "\n",
    "# using mylist2 for this task\n",
    "mapper = {}\n",
    "\n",
    "for i in mylist2:\n",
    "    if(i in mapper.keys()):\n",
    "        mapper[i] += 1;\n",
    "    else :\n",
    "        mapper[i] = 1\n",
    "\n",
    "for key,value in mapper.items():\n",
    "    print(f\"{key} has occured {value} times in mylist2\")"
   ]
  },
  {
   "cell_type": "code",
   "execution_count": 5,
   "id": "1ebbdcda",
   "metadata": {},
   "outputs": [
    {
     "name": "stdout",
     "output_type": "stream",
     "text": [
      "mylist => [10, 20, 4, 30, 12, 9, 20, 9, 4]\n",
      "the second largest value in mylist2 is : 20\n"
     ]
    }
   ],
   "source": [
    "# Ques 5\n",
    "max1 = max(mylist2)\n",
    "min1 = min(mylist2)\n",
    "max2 = max(mylist2,key=lambda x: min1-1 if (x == max1) else x)\n",
    "\n",
    "print(f\"mylist => {mylist2}\")\n",
    "print(f\"the second largest value in mylist2 is : {max2}\")"
   ]
  },
  {
   "cell_type": "code",
   "execution_count": 6,
   "id": "841b669b",
   "metadata": {},
   "outputs": [
    {
     "name": "stdout",
     "output_type": "stream",
     "text": [
      "mylist2 with duplicates : [10, 20, 4, 30, 12, 9, 20, 9, 4]\n",
      "mylist2 without duplicates : [4, 9, 10, 12, 20, 30]\n"
     ]
    }
   ],
   "source": [
    "# Ques 6\n",
    "def remove_duplicate(mylist):\n",
    "    return list(set(mylist))\n",
    "\n",
    "no_duplicate_mylist2 = remove_duplicate(mylist2)\n",
    "print(f\"mylist2 with duplicates : {mylist2}\")\n",
    "print(f\"mylist2 without duplicates : {no_duplicate_mylist2}\")"
   ]
  },
  {
   "cell_type": "code",
   "execution_count": 7,
   "id": "85e3d206",
   "metadata": {},
   "outputs": [
    {
     "name": "stdout",
     "output_type": "stream",
     "text": [
      "factorial of 10 is : 3628800\n"
     ]
    }
   ],
   "source": [
    "# Ques 7\n",
    "def factorial(n):\n",
    "    ans = 1;\n",
    "    for i in range(2,n+1):\n",
    "        ans *= i\n",
    "    return ans\n",
    "\n",
    "fact_10 = factorial(10)\n",
    "print(f\"factorial of 10 is : {fact_10}\")"
   ]
  },
  {
   "cell_type": "code",
   "execution_count": 8,
   "id": "ede49476",
   "metadata": {},
   "outputs": [
    {
     "name": "stdout",
     "output_type": "stream",
     "text": [
      "10 is not a prime number\n",
      "2 is a prime number\n",
      "4 is not a prime number\n",
      "3 is a prime number\n",
      "86 is not a prime number\n",
      "29 is a prime number\n"
     ]
    }
   ],
   "source": [
    "# Ques 8\n",
    "def is_prime(n):\n",
    "    sqrt = (int)(n**0.5)+1\n",
    "    for i in range(2,sqrt):\n",
    "        if(n%i == 0):\n",
    "            return False\n",
    "    return True\n",
    "\n",
    "mylist3 = [10,2,4,3,86,29]\n",
    "\n",
    "for i in mylist3:\n",
    "    if(is_prime(i)):\n",
    "        print(f\"{i} is a prime number\")\n",
    "    else :\n",
    "        print(f\"{i} is not a prime number\")"
   ]
  },
  {
   "cell_type": "code",
   "execution_count": 9,
   "id": "acc67c31",
   "metadata": {},
   "outputs": [
    {
     "name": "stdout",
     "output_type": "stream",
     "text": [
      "unsorted mylist2 : [10, 20, 4, 30, 12, 9, 20, 9, 4]\n",
      "sorted mylist2 : [4, 4, 9, 9, 10, 12, 20, 20, 30]\n"
     ]
    }
   ],
   "source": [
    "# Ques 9\n",
    "sorted_mylist2 = sorted(mylist2)\n",
    "print(f\"unsorted mylist2 : {mylist2}\")\n",
    "print(f\"sorted mylist2 : {sorted_mylist2}\")"
   ]
  },
  {
   "cell_type": "code",
   "execution_count": 10,
   "id": "6beeb09b",
   "metadata": {},
   "outputs": [
    {
     "name": "stdout",
     "output_type": "stream",
     "text": [
      "sum of [10, 20, 4, 30, 12, 9, 20, 9, 4] is : 118\n"
     ]
    }
   ],
   "source": [
    "# Ques 10\n",
    "# using mylist2 for this\n",
    "\n",
    "def total_sum(mylist):\n",
    "    return sum(mylist)\n",
    "\n",
    "total = total_sum(mylist2)\n",
    "print(f\"sum of {mylist2} is : {total}\")"
   ]
  },
  {
   "cell_type": "code",
   "execution_count": 11,
   "id": "3f27b483",
   "metadata": {},
   "outputs": [
    {
     "name": "stdout",
     "output_type": "stream",
     "text": [
      "mylist2 : [10, 20, 4, 30, 12, 9, 20, 9, 4]\n",
      "mylist3 : [10, 2, 4, 3, 86, 29]\n",
      "common elements are : [10, 4]\n"
     ]
    }
   ],
   "source": [
    "# Ques 11\n",
    "print(f\"mylist2 : {mylist2}\")\n",
    "print(f\"mylist3 : {mylist3}\")\n",
    "\n",
    "common = []\n",
    "for i in mylist3:\n",
    "    if(i in mylist2):\n",
    "        common.append(i)\n",
    "\n",
    "print(f\"common elements are : {common}\")"
   ]
  },
  {
   "cell_type": "code",
   "execution_count": 12,
   "id": "5d630a74",
   "metadata": {},
   "outputs": [
    {
     "name": "stdout",
     "output_type": "stream",
     "text": [
      "abcd and dbca are ANAGRAM\n",
      "listen and silent are ANAGRAM\n",
      "himan and ashu are NOT ANAGRAM\n"
     ]
    }
   ],
   "source": [
    "# Ques 12\n",
    "def check_anagram(str1 , str2):\n",
    "    for i in str1:\n",
    "        if(i not in str2):\n",
    "            return False\n",
    "    \n",
    "    return True\n",
    "\n",
    "str_list = ['abcd','dbca','listen','silent','himan','ashu']\n",
    "\n",
    "for i in range(0,len(str_list),2):\n",
    "    print(f\"{str_list[i]} and {str_list[i+1]}\",end=\" \")\n",
    "    \n",
    "    if(check_anagram(str_list[i],str_list[i+1])):\n",
    "        print(\"are ANAGRAM\")\n",
    "    else :\n",
    "        print(\"are NOT ANAGRAM\")\n",
    "        "
   ]
  },
  {
   "cell_type": "code",
   "execution_count": 13,
   "id": "be488a4c",
   "metadata": {},
   "outputs": [
    {
     "name": "stdout",
     "output_type": "stream",
     "text": [
      "permutations of abc are :\n",
      "abc\n",
      "acb\n",
      "bac\n",
      "bca\n",
      "cab\n",
      "cba\n"
     ]
    }
   ],
   "source": [
    "# Ques 13\n",
    "\n",
    "from itertools import permutations\n",
    "str1 = \"abc\"\n",
    "prem = permutations(str1)\n",
    "\n",
    "print(f\"permutations of {str1} are :\")\n",
    "\n",
    "for i in list(prem):\n",
    "    print(''.join(i))"
   ]
  },
  {
   "cell_type": "code",
   "execution_count": 14,
   "id": "0d326eae",
   "metadata": {},
   "outputs": [
    {
     "name": "stdout",
     "output_type": "stream",
     "text": [
      "the 4th fibonaci term is : 3\n"
     ]
    }
   ],
   "source": [
    "# Ques 14\n",
    "def fib(n):\n",
    "    x,y=0,1\n",
    "    for i in range(n):\n",
    "        x,y=y,x+y\n",
    "    return x\n",
    "\n",
    "fib_4 = fib(4)\n",
    "print(f\"the 4th fibonaci term is : {fib_4}\")"
   ]
  },
  {
   "cell_type": "code",
   "execution_count": 15,
   "id": "814dad7e",
   "metadata": {},
   "outputs": [
    {
     "name": "stdout",
     "output_type": "stream",
     "text": [
      "mylist3 : [10, 2, 4, 3, 86, 29]\n",
      "the median of mylist3 is : 7.0\n"
     ]
    }
   ],
   "source": [
    "# Ques 15\n",
    "import numpy as np\n",
    "\n",
    "print(f\"mylist3 : {mylist3}\")\n",
    "print(f\"the median of mylist3 is : {np.median(mylist3)}\")"
   ]
  },
  {
   "cell_type": "code",
   "execution_count": 16,
   "id": "7e1574c1",
   "metadata": {},
   "outputs": [
    {
     "name": "stdout",
     "output_type": "stream",
     "text": [
      "list is sorted in non-dec order\n"
     ]
    }
   ],
   "source": [
    "# Ques 16\n",
    "test_list=[4,4,5,6.90,100]\n",
    "if(all(test_list[i] <= test_list[i + 1] for i in range(len(test_list)-1))):\n",
    "    print(\"list is sorted in non-dec order\")\n",
    "else :\n",
    "    print(\"list is not sorted in non-dec order\")"
   ]
  },
  {
   "cell_type": "code",
   "execution_count": 17,
   "id": "db12d452",
   "metadata": {},
   "outputs": [
    {
     "name": "stdout",
     "output_type": "stream",
     "text": [
      "mylist2 : [10, 20, 4, 30, 12, 9, 20, 9, 4]\n",
      "mylist3 : [10, 2, 4, 3, 86, 29]\n",
      "itersection elements are : [10, 4]\n"
     ]
    }
   ],
   "source": [
    "# Ques 17\n",
    "print(f\"mylist2 : {mylist2}\")\n",
    "print(f\"mylist3 : {mylist3}\")\n",
    "\n",
    "itersection = []\n",
    "for i in mylist3:\n",
    "    if(i in mylist2):\n",
    "        itersection.append(i)\n",
    "\n",
    "print(f\"itersection elements are : {itersection}\")"
   ]
  },
  {
   "cell_type": "code",
   "execution_count": 18,
   "id": "1b7e3af3",
   "metadata": {},
   "outputs": [
    {
     "name": "stdout",
     "output_type": "stream",
     "text": [
      "Maximum contiguous sum is 33\n"
     ]
    }
   ],
   "source": [
    "# Ques 18\n",
    "from math import inf\n",
    "maxint=inf\n",
    "def maxSubArraySum(a,size):\n",
    "      \n",
    "    max_so_far = -maxint - 1\n",
    "    max_ending_here = 0\n",
    "      \n",
    "    for i in range(0, size):\n",
    "        max_ending_here = max_ending_here + a[i]\n",
    "        if (max_so_far < max_ending_here):\n",
    "            max_so_far = max_ending_here\n",
    " \n",
    "        if max_ending_here < 0:\n",
    "            max_ending_here = 0  \n",
    "    return max_so_far\n",
    "  \n",
    "a = [-13, -3, -25, 20, -3, 16, -23, -12, 5, -22, -15, -4, -7]\n",
    "print (\"Maximum contiguous sum is\", maxSubArraySum(a,len(a)))"
   ]
  },
  {
   "cell_type": "code",
   "execution_count": 19,
   "id": "2b4d37d4",
   "metadata": {},
   "outputs": [
    {
     "name": "stdout",
     "output_type": "stream",
     "text": [
      "before removal of all vowels : hello\n",
      "after removal of all vowels : hll\n"
     ]
    }
   ],
   "source": [
    "# Ques 19\n",
    "str2 = \"hello\"\n",
    "vowels=\"aeiou\"\n",
    "\n",
    "print(f\"before removal of all vowels : {str2}\")\n",
    "\n",
    "for ch in vowels:\n",
    "    str2=str2.replace(ch,\"\")\n",
    "    \n",
    "print(f\"after removal of all vowels : {str2}\")"
   ]
  },
  {
   "cell_type": "code",
   "execution_count": 20,
   "id": "4cc05eb7",
   "metadata": {},
   "outputs": [
    {
     "name": "stdout",
     "output_type": "stream",
     "text": [
      "string after changing the order of words : himanshu is name my Everyone Hello\n"
     ]
    }
   ],
   "source": [
    "# Ques 20\n",
    "str3 = \"Hello Everyone my name is himanshu\"\n",
    "str_list2 = str3.split(\" \");\n",
    "ans = \" \".join(str_list2[::-1])\n",
    "print(f\"string after changing the order of words : {ans}\")"
   ]
  },
  {
   "cell_type": "markdown",
   "id": "aa860241",
   "metadata": {},
   "source": [
    "## Ques 21-40\n",
    "21. Write a Python program to check if two strings are anagrams of each other.\n",
    "22. Implement a function to find the first non-repeating character in a string.\n",
    "23. Write a program to find the prime factors of a given number.\n",
    "24. Implement a function to check if a given number is a power of two.\n",
    "25. Write a Python program to merge two sorted lists into a single sorted list.\n",
    "26. Implement a function to find the mode of a list of numbers.\n",
    "27. Write a program to find the greatest common divisor (GCD) of two numbers.\n",
    "28. Implement a function to calculate the square root of a given number.\n",
    "29. Write a Python program to check if a given string is a valid palindrome ignoring non-alphanumeric characters.\n",
    "30. Implement a function to find the minimum element in a rotated sorted list.\n",
    "31. Write a program to find the sum of all even numbers in a list.\n",
    "32. Implement a function to calculate the power of a number using recursion.\n",
    "33. Write a Python program to remove duplicates from a list while preserving the order.\n",
    "34. Implement a function to find the longest common prefix among a list of strings.\n",
    "35. Write a program to check if a given number is a perfect square.\n",
    "36. Implement a function to calculate the product of all elements in a list.\n",
    "37. Write a Python program to reverse the order of words in a sentence while preserving the word order.\n",
    "38. Implement a function to find the missing number in a given list of consecutive numbers.\n",
    "39. Write a program to find the sum of digits of a given number.\n",
    "40. Implement a function to check if a given string is a valid palindrome considering case sensitivity."
   ]
  },
  {
   "cell_type": "code",
   "execution_count": 21,
   "id": "9dc7caaa",
   "metadata": {},
   "outputs": [
    {
     "name": "stdout",
     "output_type": "stream",
     "text": [
      "abcd and dbca are ANAGRAM\n",
      "listen and silent are ANAGRAM\n",
      "himan and ashu are NOT ANAGRAM\n"
     ]
    }
   ],
   "source": [
    "# Ques 21\n",
    "def check_anagram(str1 , str2):\n",
    "    for i in str1:\n",
    "        if(i not in str2):\n",
    "            return False\n",
    "    \n",
    "    return True\n",
    "\n",
    "str_list = ['abcd','dbca','listen','silent','himan','ashu']\n",
    "\n",
    "for i in range(0,len(str_list),2):\n",
    "    print(f\"{str_list[i]} and {str_list[i+1]}\",end=\" \")\n",
    "    \n",
    "    if(check_anagram(str_list[i],str_list[i+1])):\n",
    "        print(\"are ANAGRAM\")\n",
    "    else :\n",
    "        print(\"are NOT ANAGRAM\")\n",
    "        "
   ]
  },
  {
   "cell_type": "code",
   "execution_count": 26,
   "id": "8aa3ab70",
   "metadata": {},
   "outputs": [
    {
     "name": "stdout",
     "output_type": "stream",
     "text": [
      "v is the first non repeating char in 'hello everyone my name is himanshu''\n"
     ]
    }
   ],
   "source": [
    "# Ques 22\n",
    "\n",
    "mapper = {}\n",
    "\n",
    "for i in str3.lower():\n",
    "    if(i in mapper.keys()):\n",
    "        mapper[i] += 1;\n",
    "    else :\n",
    "        mapper[i] = 1\n",
    "\n",
    "for i in str3.lower():\n",
    "    if(mapper[i] == 1):\n",
    "        print(f\"{i} is the first non repeating char in '{str3.lower()}''\")\n",
    "        break"
   ]
  },
  {
   "cell_type": "code",
   "execution_count": 28,
   "id": "cfcf25c4",
   "metadata": {},
   "outputs": [
    {
     "name": "stdout",
     "output_type": "stream",
     "text": [
      "prime factors of 2345 is :[5, 7, 67]\n"
     ]
    }
   ],
   "source": [
    "# Ques 23\n",
    "\n",
    "import math\n",
    "\n",
    "def prime_factor(n):\n",
    "    ans = []\n",
    "    if(n%2 == 0):\n",
    "        ans.append(2)\n",
    "        n = n//2\n",
    "        \n",
    "    for i in range(3,int(math.sqrt(n)+1),2):\n",
    "        while(n%i == 0):\n",
    "            ans.append(i)\n",
    "            n = n//i\n",
    "        \n",
    "    if(n > 2):\n",
    "        ans.append(n)\n",
    "    \n",
    "    return ans\n",
    "\n",
    "\n",
    "prime_factor_2345 = prime_factor(2345)\n",
    "\n",
    "print(f\"prime factors of 2345 is :{prime_factor_2345}\")"
   ]
  },
  {
   "cell_type": "code",
   "execution_count": 42,
   "id": "290a4af3",
   "metadata": {},
   "outputs": [
    {
     "name": "stdout",
     "output_type": "stream",
     "text": [
      "2 is a power of 2\n",
      "545 is not a power of 2\n",
      "256 is a power of 2\n",
      "32 is a power of 2\n",
      "98 is not a power of 2\n"
     ]
    }
   ],
   "source": [
    "# Ques 24\n",
    "\n",
    "mylist4 = [2,545,256,32,98]\n",
    "\n",
    "for i in mylist4:\n",
    "    if(i.bit_count() == 1):\n",
    "        print(f\"{i} is a power of 2\")\n",
    "    else :\n",
    "        print(f\"{i} is not a power of 2\")"
   ]
  },
  {
   "cell_type": "code",
   "execution_count": 46,
   "id": "309cbc8a",
   "metadata": {},
   "outputs": [
    {
     "name": "stdout",
     "output_type": "stream",
     "text": [
      "list1 : [4, 4, 9, 9, 10, 12, 20, 20, 30]\n",
      "list2 : [2, 3, 4, 10, 29, 86]\n",
      "merged : [2, 3, 4, 4, 4, 9, 9, 10, 10, 12, 20, 20, 29, 30, 86]\n"
     ]
    }
   ],
   "source": [
    "# Ques 25\n",
    "\n",
    "def merge(list1, list2):\n",
    "    n,m = len(list1), len(list2)\n",
    "    i, j = 0,0\n",
    "    \n",
    "    ans = []\n",
    "    while(i < n and j < m):\n",
    "        if(list1[i] < list2[j]):\n",
    "            ans.append(list1[i])\n",
    "            i += 1\n",
    "        else :\n",
    "            ans.append(list2[j])\n",
    "            j += 1\n",
    "            \n",
    "    while i < n:\n",
    "        ans.append(list1[i])\n",
    "        i += 1\n",
    "        \n",
    "    while j < m:\n",
    "        ans.append(list2[j])\n",
    "        j += 1\n",
    "    \n",
    "    return ans;\n",
    "\n",
    "\n",
    "sorted1 = sorted(mylist2)\n",
    "sorted2 = sorted(mylist3)\n",
    "\n",
    "merged = merge(sorted1 , sorted2)\n",
    "print(f\"list1 : {sorted1}\")\n",
    "print(f\"list2 : {sorted2}\")\n",
    "print(f\"merged : {merged}\")"
   ]
  },
  {
   "cell_type": "code",
   "execution_count": 51,
   "id": "71eae9ef",
   "metadata": {},
   "outputs": [
    {
     "name": "stdout",
     "output_type": "stream",
     "text": [
      "mode of [2, 3, 4, 4, 4, 9, 9, 10, 10, 12, 20, 20, 29, 30, 86] is : 4\n"
     ]
    }
   ],
   "source": [
    "# Ques 26\n",
    "\n",
    "def mode(list1) :\n",
    "    mapper = {}\n",
    "    for i in list1:\n",
    "        if(i in mapper.keys()):\n",
    "            mapper[i] += 1;\n",
    "        else :\n",
    "            mapper[i] = 1\n",
    "            \n",
    "    ans = list1[0]\n",
    "    for key, value in mapper.items():\n",
    "        if(mapper[ans] < value):\n",
    "            ans = key\n",
    "    return ans\n",
    "    \n",
    "\n",
    "print(f\"mode of {merged} is : {mode(merged)}\")"
   ]
  },
  {
   "cell_type": "code",
   "execution_count": 67,
   "id": "7672ad41",
   "metadata": {},
   "outputs": [
    {
     "name": "stdout",
     "output_type": "stream",
     "text": [
      "by builtin gcd of '2234132' and '2341234435' is : '1'\n",
      "by user defined gcd of '2234132' and '2341234435' is : '1'\n"
     ]
    }
   ],
   "source": [
    "# Ques 27\n",
    "\n",
    "import math\n",
    "\n",
    "def gcd(a, b):\n",
    "    if a == 0:\n",
    "        return b\n",
    "    if b == 0:\n",
    "        return a\n",
    "    \n",
    "    if a > b:\n",
    "        return gcd(a-b,b)\n",
    "    else :\n",
    "        return gcd(a,b-a)\n",
    "\n",
    "num1 = 2234132\n",
    "num2 = 2341234435\n",
    "\n",
    "print(f\"by builtin gcd of '{num1}' and '{num2}' is : '{math.gcd(num1,num2)}'\")\n",
    "print(f\"by user defined gcd of '{num1}' and '{num2}' is : '{gcd(num1,num2)}'\")"
   ]
  },
  {
   "cell_type": "code",
   "execution_count": 139,
   "id": "c71437e6",
   "metadata": {},
   "outputs": [
    {
     "name": "stdout",
     "output_type": "stream",
     "text": [
      "sqrt of 50 is : 7.0710678118654755\n"
     ]
    }
   ],
   "source": [
    "# Ques 28\n",
    "def sqrt_root(n):\n",
    "    return n**(1/2)\n",
    "\n",
    "ans = sqrt_root(50)\n",
    "print(f\"sqrt of 50 is : {ans}\")"
   ]
  },
  {
   "cell_type": "code",
   "execution_count": 72,
   "id": "9e8e8aba",
   "metadata": {},
   "outputs": [
    {
     "name": "stdout",
     "output_type": "stream",
     "text": [
      "palindrome\n"
     ]
    }
   ],
   "source": [
    "# Ques 29\n",
    "str4 = 'niti.n'\n",
    "\n",
    "for i in str4:\n",
    "    if(~i.isalnum()):\n",
    "        str4 = str4.replace(i,\"\")\n",
    "\n",
    "\n",
    "if str4 == str4[::-1]:\n",
    "    print('palindrome')\n",
    "else :\n",
    "    print('not a palindrome')"
   ]
  },
  {
   "cell_type": "code",
   "execution_count": 75,
   "id": "9c8012e5",
   "metadata": {},
   "outputs": [
    {
     "name": "stdout",
     "output_type": "stream",
     "text": [
      "minimum is : 2\n"
     ]
    }
   ],
   "source": [
    "# Ques 30\n",
    "\n",
    "mylist5 = [4,5,6,7,2,3,3]\n",
    "print(f\"minimum is : {min(mylist5)}\")"
   ]
  },
  {
   "cell_type": "code",
   "execution_count": 87,
   "id": "7c8a3d44",
   "metadata": {},
   "outputs": [
    {
     "name": "stdout",
     "output_type": "stream",
     "text": [
      "list id : [2, 545, 256, 32, 98]\n",
      "sum of all even numbers of the list is 388\n"
     ]
    }
   ],
   "source": [
    "# Ques 31\n",
    "import functools\n",
    "print(f\"list id : {mylist4}\")\n",
    "sum1 = 0\n",
    "for i in mylist4:\n",
    "    if i%2 == 0:\n",
    "        sum1 += i\n",
    "print(f\"sum of all even numbers of the list is {sum1}\")"
   ]
  },
  {
   "cell_type": "code",
   "execution_count": 90,
   "id": "50ec532e",
   "metadata": {},
   "outputs": [
    {
     "name": "stdout",
     "output_type": "stream",
     "text": [
      "4 raised to power of 7 is : 16384\n"
     ]
    }
   ],
   "source": [
    "# Ques 32\n",
    "\n",
    "def power_n(base,power):\n",
    "    if power == 1:\n",
    "        return base\n",
    "    return base*power_n(base,power-1)\n",
    "\n",
    "print(f\"4 raised to power of 7 is : {power_n(4,7)}\")"
   ]
  },
  {
   "cell_type": "code",
   "execution_count": 97,
   "id": "b1bb5a34",
   "metadata": {},
   "outputs": [
    {
     "name": "stdout",
     "output_type": "stream",
     "text": [
      "before removal of duplicates : [10, 4, 30, 12, 9, 9, 4]\n",
      "after removal of duplicates : [10, 30, 12, 9, 4]\n"
     ]
    }
   ],
   "source": [
    "# Ques 33\n",
    "mapper = {}\n",
    "for i in mylist2:\n",
    "    if(i in mapper.keys()):\n",
    "        mapper[i] += 1;\n",
    "    else :\n",
    "        mapper[i] = 1\n",
    "\n",
    "mylist2_copy = mylist2[::]\n",
    "for key, value in mapper.items():\n",
    "    while value > 1:\n",
    "        mylist2_copy.remove(key)\n",
    "        value -= 1\n",
    "        \n",
    "    \n",
    "print(f\"before removal of duplicates : {mylist2}\")\n",
    "print(f\"after removal of duplicates : {mylist2_copy}\")"
   ]
  },
  {
   "cell_type": "code",
   "execution_count": 141,
   "id": "d84725ea",
   "metadata": {},
   "outputs": [
    {
     "name": "stdout",
     "output_type": "stream",
     "text": [
      "The longest Common Prefix is : gee\n"
     ]
    }
   ],
   "source": [
    "# Ques 34\n",
    "\n",
    "def longestCommonPrefix(a):\n",
    "    size = len(a)\n",
    " \n",
    "    if (size == 0):\n",
    "        return \"\"\n",
    " \n",
    "    if (size == 1):\n",
    "        return a[0]\n",
    " \n",
    "    a.sort()\n",
    "     \n",
    "    end = min(len(a[0]), len(a[size - 1]))\n",
    " \n",
    "    i = 0\n",
    "    while (i < end and a[0][i] == a[size - 1][i]):\n",
    "        i += 1\n",
    " \n",
    "    pre = a[0][0: i]\n",
    "    return pre\n",
    " \n",
    " \n",
    "mylist10 = [\"geeksforgeeks\", \"geeks\" ,\"geek\", \"geezer\"]\n",
    "print(f\"The longest Common Prefix is : {longestCommonPrefix(mylist10)}\")"
   ]
  },
  {
   "cell_type": "code",
   "execution_count": 98,
   "id": "6ff0dd9a",
   "metadata": {},
   "outputs": [
    {
     "name": "stdout",
     "output_type": "stream",
     "text": [
      "64 is a perfect square\n",
      "65 is not a perfect square\n"
     ]
    }
   ],
   "source": [
    "# Ques 35\n",
    "\n",
    "import math\n",
    "\n",
    "\n",
    "mylist5 = [64,65]\n",
    "\n",
    "for i in mylist5:\n",
    "    if int(math.sqrt(i)) == math.sqrt(i):\n",
    "        print(f\"{i} is a perfect square\")\n",
    "    else :\n",
    "        print(f\"{i} is not a perfect square\")\n",
    "    \n",
    "\n"
   ]
  },
  {
   "cell_type": "code",
   "execution_count": 99,
   "id": "a744c02d",
   "metadata": {},
   "outputs": [
    {
     "name": "stdout",
     "output_type": "stream",
     "text": [
      "product of '[10, 2, 4, 3, 86, 29]' is : '598560'\n"
     ]
    }
   ],
   "source": [
    "# Ques 36\n",
    "\n",
    "def multiply_list(list1):\n",
    "    ans = 1;\n",
    "    for i in list1:\n",
    "        ans *= i\n",
    "    return ans\n",
    "    \n",
    "product = multiply_list(mylist3);\n",
    "print(f\"product of '{mylist3}' is : '{product}'\")"
   ]
  },
  {
   "cell_type": "code",
   "execution_count": 100,
   "id": "3b1dcf04",
   "metadata": {},
   "outputs": [
    {
     "name": "stdout",
     "output_type": "stream",
     "text": [
      "string after changing the order of words : himanshu is name my Everyone Hello\n"
     ]
    }
   ],
   "source": [
    "# Ques 37\n",
    "\n",
    "str3 = \"Hello Everyone my name is himanshu\"\n",
    "str_list2 = str3.split(\" \");\n",
    "ans = \" \".join(str_list2[::-1])\n",
    "print(f\"string after changing the order of words : {ans}\")"
   ]
  },
  {
   "cell_type": "code",
   "execution_count": 101,
   "id": "fad72695",
   "metadata": {},
   "outputs": [
    {
     "name": "stdout",
     "output_type": "stream",
     "text": [
      "first missing number in '[-3, -2, 0, 1, 2, 3]' is : '-1'\n",
      "first missing number in '[0, 1, 2, 3, 4, 7, 8]' is : '5'\n"
     ]
    }
   ],
   "source": [
    "# Ques 38\n",
    "\n",
    "def missing(list1):\n",
    "    if(len(list1) == 0):\n",
    "        print(\"list is empty\")\n",
    "        return -1\n",
    "    \n",
    "    \n",
    "    for i in range(1,len(list1)-1):\n",
    "        if list1[i]+1 != list1[i+1]:\n",
    "            return list1[i]+1\n",
    "    return list1[len(list1)-1]+1\n",
    "\n",
    "mylist6 = [-3,-2,0,1,2,3]\n",
    "mylist7 = [0,1,2,3,4,7,8]\n",
    "\n",
    "print(f\"first missing number in '{mylist6}' is : '{missing(mylist6)}'\")\n",
    "print(f\"first missing number in '{mylist7}' is : '{missing(mylist7)}'\")"
   ]
  },
  {
   "cell_type": "code",
   "execution_count": 104,
   "id": "c13718de",
   "metadata": {},
   "outputs": [
    {
     "name": "stdout",
     "output_type": "stream",
     "text": [
      "sum of digits of '234123' is '15'\n"
     ]
    }
   ],
   "source": [
    "# Ques 39\n",
    "\n",
    "num = 234123\n",
    "num_copy = num\n",
    "total = 0\n",
    "\n",
    "while num != 0:\n",
    "    total += num%10\n",
    "    num = num // 10\n",
    "    \n",
    "print(f\"sum of digits of '{num_copy}' is '{total}'\")"
   ]
  },
  {
   "cell_type": "code",
   "execution_count": 109,
   "id": "ec56f30b",
   "metadata": {},
   "outputs": [
    {
     "name": "stdout",
     "output_type": "stream",
     "text": [
      "not a palindrome\n"
     ]
    }
   ],
   "source": [
    "# Ques 40\n",
    "\n",
    "str4 = 'Nitin'\n",
    "if(str4 == str4[::-1]):\n",
    "    print('palindrome')\n",
    "else:\n",
    "    print('not a palindrome')"
   ]
  },
  {
   "cell_type": "markdown",
   "id": "0701b922",
   "metadata": {},
   "source": [
    "## Ques 41-46\n",
    "41. Write a Python program to find the smallest missing positive integer in a list.\n",
    "42. Implement a function to find the longest palindrome substring in a given string.\n",
    "43. Write a program to find the number of occurrences of a given element in a list.\n",
    "44. Implement a function to check if a given number is a perfect number.\n",
    "45. Write a Python program to remove all duplicates from a string.\n",
    "46. Implement a function to find the first missing positive\n"
   ]
  },
  {
   "cell_type": "code",
   "execution_count": 110,
   "id": "18d853f9",
   "metadata": {},
   "outputs": [
    {
     "name": "stdout",
     "output_type": "stream",
     "text": [
      "smallest missing positive integer in '[2, 3, 4, 20, 23]' is : 5\n"
     ]
    }
   ],
   "source": [
    "# Ques 41\n",
    "def missing(list1):\n",
    "    if(len(list1) == 0):\n",
    "        print(\"list is empty\")\n",
    "        return -1\n",
    "    \n",
    "    \n",
    "    for i in range(1,len(list1)-1):\n",
    "        if list1[i]+1 != list1[i+1]:\n",
    "            return list1[i]+1\n",
    "    return list1[len(list1)-1]+1\n",
    "\n",
    "mylist8 = [2,3,4,20,23]\n",
    "print(f\"smallest missing positive integer in '{mylist8}' is : {missing(mylist8)}\")"
   ]
  },
  {
   "cell_type": "code",
   "execution_count": 137,
   "id": "c5ab176c",
   "metadata": {},
   "outputs": [
    {
     "name": "stdout",
     "output_type": "stream",
     "text": [
      "Longest palindrome substring is: geeksskeeg\n",
      "Length is: 10\n"
     ]
    }
   ],
   "source": [
    "# Ques 42\n",
    "\n",
    "def longestPalSubstr(string):\n",
    "    n = len(string) \n",
    "    if (n < 2):\n",
    "        return n \n",
    "    start=0\n",
    "    maxLength = 1\n",
    "    for i in range(n):\n",
    "        low = i - 1\n",
    "        high = i + 1\n",
    "        while (high < n and string[high] == string[i] ):                              \n",
    "            high=high+1\n",
    "       \n",
    "        while (low >= 0 and string[low] == string[i] ):                \n",
    "            low=low-1\n",
    "       \n",
    "        while (low >= 0 and high < n and string[low] == string[high] ):\n",
    "          low=low-1\n",
    "          high=high+1\n",
    "         \n",
    "     \n",
    "        length = high - low - 1\n",
    "        if (maxLength < length):\n",
    "            maxLength = length\n",
    "            start=low+1\n",
    "             \n",
    "    print (\"Longest palindrome substring is:\",end=\" \")\n",
    "    print (string[start:start + maxLength])\n",
    "     \n",
    "    return maxLength\n",
    "     \n",
    "string = (\"forgeeksskeegfor\")\n",
    "print(\"Length is: \" + str(longestPalSubstr(string)))\n"
   ]
  },
  {
   "cell_type": "code",
   "execution_count": 113,
   "id": "b6240790",
   "metadata": {},
   "outputs": [
    {
     "name": "stdout",
     "output_type": "stream",
     "text": [
      "23 occured 2 times in '[23, 43, 123, 43, 23, 34, 534, 12, 6, 28]' \n",
      "43 occured 2 times in '[23, 43, 123, 43, 23, 34, 534, 12, 6, 28]' \n",
      "123 occured 1 times in '[23, 43, 123, 43, 23, 34, 534, 12, 6, 28]' \n",
      "34 occured 1 times in '[23, 43, 123, 43, 23, 34, 534, 12, 6, 28]' \n",
      "534 occured 1 times in '[23, 43, 123, 43, 23, 34, 534, 12, 6, 28]' \n",
      "12 occured 1 times in '[23, 43, 123, 43, 23, 34, 534, 12, 6, 28]' \n",
      "6 occured 1 times in '[23, 43, 123, 43, 23, 34, 534, 12, 6, 28]' \n",
      "28 occured 1 times in '[23, 43, 123, 43, 23, 34, 534, 12, 6, 28]' \n"
     ]
    }
   ],
   "source": [
    "# Ques 43\n",
    "\n",
    "mapper = {}\n",
    "mylist9 = [23,43,123,43,23,34,534,12,6,28]\n",
    "for i in mylist9:\n",
    "    if(i in mapper.keys()):\n",
    "        mapper[i] += 1;\n",
    "    else :\n",
    "        mapper[i] = 1\n",
    "        \n",
    "\n",
    "for keys, value in mapper.items():\n",
    "    print(f\"{keys} occured {value} times in '{mylist9}' \")"
   ]
  },
  {
   "cell_type": "code",
   "execution_count": 120,
   "id": "83a7b474",
   "metadata": {},
   "outputs": [
    {
     "name": "stdout",
     "output_type": "stream",
     "text": [
      "23 is not a perfect number\n",
      "43 is not a perfect number\n",
      "123 is not a perfect number\n",
      "43 is not a perfect number\n",
      "23 is not a perfect number\n",
      "34 is not a perfect number\n",
      "534 is not a perfect number\n",
      "12 is not a perfect number\n",
      "6 is a perfect number\n",
      "28 is a perfect number\n"
     ]
    }
   ],
   "source": [
    "# Ques 44\n",
    "import math\n",
    "def perfect(n):\n",
    "    list1 = []\n",
    "    list1.append(1)\n",
    "    for i in range(2,int(math.sqrt(n))+1):\n",
    "        if n%i == 0:\n",
    "            list1.append(i)\n",
    "            if i != n//i:\n",
    "                list1.append(n//i)\n",
    "\n",
    "    return sum(list1) == n\n",
    "\n",
    "for i in mylist9:\n",
    "    if(perfect(i)):\n",
    "        print(f\"{i} is a perfect number\")\n",
    "    else :\n",
    "        print(f\"{i} is not a perfect number\")\n",
    "\n"
   ]
  },
  {
   "cell_type": "code",
   "execution_count": 123,
   "id": "e9f1b4a5",
   "metadata": {},
   "outputs": [
    {
     "name": "stdout",
     "output_type": "stream",
     "text": [
      "string with duplicates : 'Hello Everyone my name is himanshu'\n",
      "string without duplicates : 'HEvru'\n"
     ]
    }
   ],
   "source": [
    "# Ques 45\n",
    "\n",
    "mapper = {}\n",
    "\n",
    "for i in str3.lower():\n",
    "    if(i in mapper.keys()):\n",
    "        mapper[i] += 1;\n",
    "    else :\n",
    "        mapper[i] = 1\n",
    "\n",
    "        \n",
    "str3_copy = str3[::]\n",
    "for i in str3_copy.lower():\n",
    "    if(mapper[i] != 1):\n",
    "        str3_copy=str3_copy.replace(i,\"\")\n",
    "    \n",
    "print(f\"string with duplicates : '{str3}'\")\n",
    "print(f\"string without duplicates : '{str3_copy}'\")"
   ]
  },
  {
   "cell_type": "code",
   "execution_count": 134,
   "id": "a4dbda9b",
   "metadata": {},
   "outputs": [
    {
     "name": "stdout",
     "output_type": "stream",
     "text": [
      "smallest missing positive integer in '[-2, -10, 2, 4, 20, 23]' is : 1\n"
     ]
    }
   ],
   "source": [
    "# Ques 46\n",
    "\n",
    "def missing_positive(list1):\n",
    "    if(len(list1) == 0):\n",
    "        print(\"list is empty\")\n",
    "        return -1\n",
    "    \n",
    "    \n",
    "    ans = -1\n",
    "    maxi = list1[len(list1)-1]\n",
    "    mini = list1[len(list1)-1]\n",
    "    isone = False\n",
    "    for i in range(0,len(list1)-1):\n",
    "        \n",
    "        maxi = max([maxi,list1[i]])\n",
    "        mini = min([mini,list1[i]])\n",
    "        \n",
    "        if list1[i] == 1:\n",
    "            isone = True\n",
    "            \n",
    "        if list1[i] > 0 and list1[i+1] > 0 and list1[i]+1 != list1[i+1]:\n",
    "            ans = list1[i]+1\n",
    "    \n",
    "    if(mini <= 0 and ~isone):\n",
    "        return 1\n",
    "    \n",
    "    if ans == -1:\n",
    "        return ans\n",
    "    \n",
    "    if(maxi <= 0):\n",
    "        return 1\n",
    "    return maxi+1\n",
    "\n",
    "mylist8 = [-2,-10,2,4,20,23]\n",
    "print(f\"smallest missing positive integer in '{mylist8}' is : {missing_positive(mylist8)}\")"
   ]
  }
 ],
 "metadata": {
  "kernelspec": {
   "display_name": "Python 3 (ipykernel)",
   "language": "python",
   "name": "python3"
  },
  "language_info": {
   "codemirror_mode": {
    "name": "ipython",
    "version": 3
   },
   "file_extension": ".py",
   "mimetype": "text/x-python",
   "name": "python",
   "nbconvert_exporter": "python",
   "pygments_lexer": "ipython3",
   "version": "3.10.6"
  }
 },
 "nbformat": 4,
 "nbformat_minor": 5
}

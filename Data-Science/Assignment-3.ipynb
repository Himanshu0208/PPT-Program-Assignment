{
 "cells": [
  {
   "cell_type": "markdown",
   "id": "de72c237",
   "metadata": {},
   "source": [
    "**Ques1.** Scenario: A company wants to analyze the sales performance of its products in different regions. They have collected the following data:\n",
    "\n",
    "- Region A: [10, 15, 12, 8, 14]\n",
    "- Region B: [18, 20, 16, 22, 25]\n",
    "   \n",
    " Calculate the mean sales for each region."
   ]
  },
  {
   "cell_type": "code",
   "execution_count": 1,
   "id": "a4544a4d",
   "metadata": {},
   "outputs": [
    {
     "name": "stdout",
     "output_type": "stream",
     "text": [
      "the mean sales of region_a is 11.8\n",
      "the mean sales of region_b is 20.2\n"
     ]
    }
   ],
   "source": [
    "import numpy as np\n",
    "\n",
    "region_a = [10,15,12,8,14]\n",
    "region_b = [18, 20, 16, 22, 25]\n",
    "\n",
    "print(f\"the mean sales of region_a is {np.mean(region_a)}\")\n",
    "print(f\"the mean sales of region_b is {np.mean(region_b)}\")"
   ]
  },
  {
   "cell_type": "markdown",
   "id": "e3e18251",
   "metadata": {},
   "source": [
    "**Ques2.** Scenario: A survey is conducted to measure customer satisfaction on a scale of 1 to 5. The data collected is as follows:\n",
    "\n",
    "   [4, 5, 2, 3, 5, 4, 3, 2, 4, 5]\n",
    " \n",
    "Calculate the mode of the survey responses."
   ]
  },
  {
   "cell_type": "code",
   "execution_count": 9,
   "id": "541d071d",
   "metadata": {},
   "outputs": [
    {
     "name": "stdout",
     "output_type": "stream",
     "text": [
      "mode of the survey is 4 as it has appeared 3 times in the survey\n"
     ]
    }
   ],
   "source": [
    "from scipy import stats as st\n",
    "survey = [4, 5, 2, 3, 5, 4, 3, 2, 4, 5]\n",
    "print(f\"mode of the survey is {st.mode(survey,keepdims=False).mode} as it has appeared {st.mode(survey,keepdims=False).count} times in the survey\")"
   ]
  },
  {
   "cell_type": "markdown",
   "id": "d62c1e05",
   "metadata": {},
   "source": [
    "**Ques3.** Scenario: A company wants to compare the salaries of two departments. The salary data for Department A and Department B are as follows:\n",
    "\n",
    "- Department A: [5000, 6000, 5500, 7000]\n",
    "- Department B: [4500, 5500, 5800, 6000, 5200]\n",
    "   \n",
    "Calculate the median salary for each department."
   ]
  },
  {
   "cell_type": "code",
   "execution_count": 10,
   "id": "db78c698",
   "metadata": {},
   "outputs": [
    {
     "name": "stdout",
     "output_type": "stream",
     "text": [
      "The median salary of the department A is 5750.0\n",
      "The median salary of the department B is 5500.0\n"
     ]
    }
   ],
   "source": [
    "dep_a = [5000, 6000, 5500, 7000]\n",
    "dep_b = [4500, 5500, 5800, 6000, 5200]\n",
    "\n",
    "print(f\"The median salary of the department A is {np.median(dep_a)}\")\n",
    "print(f\"The median salary of the department B is {np.median(dep_b)}\")"
   ]
  },
  {
   "cell_type": "markdown",
   "id": "eb6a5a4b",
   "metadata": {},
   "source": [
    "**Ques4** Scenario: A data analyst wants to determine the variability in the daily stock prices of a company. The data collected is as follows:\n",
    "\n",
    "- [25.5, 24.8, 26.1, 25.3, 24.9]\n",
    "   \n",
    " Calculate the range of the stock prices."
   ]
  },
  {
   "cell_type": "code",
   "execution_count": 12,
   "id": "40d6ca39",
   "metadata": {},
   "outputs": [
    {
     "name": "stdout",
     "output_type": "stream",
     "text": [
      "the range of the given data is 1.3000000000000007\n"
     ]
    }
   ],
   "source": [
    "data = [25.5, 24.8, 26.1, 25.3, 24.9]\n",
    "range_of_data = max(data) - min(data)\n",
    "\n",
    "print(f\"the range of the given data is {range_of_data}\")"
   ]
  },
  {
   "cell_type": "markdown",
   "id": "323a829e",
   "metadata": {},
   "source": [
    "**Ques5** Scenario: A study is conducted to compare the performance of two different teaching methods. The test scores of the students in each group are as follows:\n",
    " - Group A: [85, 90, 92, 88, 91]\n",
    " - Group B: [82, 88, 90, 86, 87]\n",
    " \n",
    " Perform a t-test to determine if there is a significant difference in the mean scores between the two groups."
   ]
  },
  {
   "cell_type": "code",
   "execution_count": null,
   "id": "b8e13f5c",
   "metadata": {},
   "outputs": [],
   "source": []
  },
  {
   "cell_type": "markdown",
   "id": "0651b5a3",
   "metadata": {},
   "source": [
    "**Ques6** Scenario: A company wants to analyze the relationship between advertising expenditure and sales. The data collected is as follows:\n",
    " - Advertising Expenditure (in thousands): [10, 15, 12, 8, 14]\n",
    " - Sales (in thousands): [25, 30, 28, 20, 26]\n",
    " \n",
    " Calculate the correlation coefficient between advertising expenditure and sales."
   ]
  },
  {
   "cell_type": "code",
   "execution_count": 18,
   "id": "f1884891",
   "metadata": {},
   "outputs": [
    {
     "name": "stdout",
     "output_type": "stream",
     "text": [
      "the correlation between 'Advertising Expenditure' and 'Sales' is : 0.8757511375750132 \n"
     ]
    }
   ],
   "source": [
    "ads_expenditure = [10, 15, 12, 8, 14] # data is in thousands\n",
    "sales = [25, 30, 28, 20, 26] # data is in thousand\n",
    "\n",
    "print(f\"the correlation between 'Advertising Expenditure' and 'Sales' is : {np.corrcoef(ads_expenditure, sales)[0][1]} \")"
   ]
  },
  {
   "cell_type": "code",
   "execution_count": 19,
   "id": "f3f87c24",
   "metadata": {},
   "outputs": [
    {
     "data": {
      "text/plain": [
       "array([[1.        , 0.87575114],\n",
       "       [0.87575114, 1.        ]])"
      ]
     },
     "execution_count": 19,
     "metadata": {},
     "output_type": "execute_result"
    }
   ],
   "source": [
    "#        ads        sales\n",
    "#  ads    1            0.875\n",
    "# sales  0.875          1\n",
    "\n",
    "np.corrcoef(ads_expenditure, sales)"
   ]
  },
  {
   "cell_type": "markdown",
   "id": "3cf37b5a",
   "metadata": {},
   "source": [
    "**Ques7** Scenario: A survey is conducted to measure the heights of a group of people. The data collected is as follows:\n",
    "   [160, 170, 165, 155, 175, 180, 170]\n",
    "   \n",
    " Calculate the standard deviation of the heights."
   ]
  },
  {
   "cell_type": "code",
   "execution_count": 20,
   "id": "94afa812",
   "metadata": {},
   "outputs": [
    {
     "name": "stdout",
     "output_type": "stream",
     "text": [
      "the standard deviation of the heights is : 7.953949089757174\n"
     ]
    }
   ],
   "source": [
    "heights = [160, 170, 165, 155, 175, 180, 170]\n",
    "print(f\"the standard deviation of the heights is : {np.std(heights)}\")"
   ]
  },
  {
   "cell_type": "markdown",
   "id": "f950b387",
   "metadata": {},
   "source": [
    "**Ques8** Scenario: A company wants to analyze the relationship between employee tenure and job satisfaction. The data collected is as follows:\n",
    " - Employee Tenure (in years): [2, 3, 5, 4, 6, 2, 4]\n",
    " - Job Satisfaction (on a scale of 1 to 10): [7, 8, 6, 9, 5, 7, 6]\n",
    "   \n",
    "  Perform a linear regression analysis to predict job satisfaction based on employee tenure.\n",
    "  \n",
    "### Note : It should be logistic regression problem a the job satisfaction is of a scale of 1 to 10, but you asked for the linear hence i m fitting both"
   ]
  },
  {
   "cell_type": "code",
   "execution_count": 27,
   "id": "dfdd4034",
   "metadata": {},
   "outputs": [
    {
     "name": "stdout",
     "output_type": "stream",
     "text": [
      "predicton by linear\n",
      "job satisfaction for '15' years tenure is : 1.5744680851063828\n",
      "job satisfaction for '20' years tenure is : -0.7659574468085104\n",
      "job satisfaction for '4' years tenure is : 6.7234042553191475\n",
      "\n",
      "prediction by logistic\n",
      "job satisfaction for '15' years tenure is : 5\n",
      "job satisfaction for '20' years tenure is : 5\n",
      "job satisfaction for '4' years tenure is : 6\n"
     ]
    }
   ],
   "source": [
    "## By liabries \n",
    "from sklearn.linear_model import LinearRegression\n",
    "from sklearn.linear_model import LogisticRegression\n",
    "\n",
    "emp_tenure = np.array([2, 3, 5, 4, 6, 2, 4]).reshape(-1, 1) # in years\n",
    "job_satisfaction = [7, 8, 6, 9, 5, 7, 6] # on a scale of 1 to 10\n",
    "\n",
    "model_linear = LinearRegression()\n",
    "model_logistic = LogisticRegression(multi_class='multinomial')\n",
    "\n",
    "model_linear.fit(emp_tenure,job_satisfaction)\n",
    "model_logistic.fit(emp_tenure,job_satisfaction)\n",
    "\n",
    "new_data = np.array([15,20,4]).reshape(-1,1)\n",
    "\n",
    "print(\"predicton by linear\")\n",
    "y_pred1 = model_linear.predict(new_data)\n",
    "\n",
    "for i in zip(new_data, y_pred1):\n",
    "    print(f\"job satisfaction for '{i[0][0]}' years tenure is : {i[1]}\")\n",
    "    \n",
    "print()\n",
    "print(\"prediction by logistic\")\n",
    "y_pred2 = model_logistic.predict(new_data)\n",
    "\n",
    "for i in zip(new_data, y_pred2):\n",
    "    print(f\"job satisfaction for '{i[0][0]}' years tenure is : {i[1]}\")"
   ]
  },
  {
   "cell_type": "markdown",
   "id": "ea8e25b2",
   "metadata": {},
   "source": [
    "**Ques9** Scenario: A study is conducted to compare the effectiveness of two different medications. The recovery times of the patients in each group are as follows:\n",
    "   - Medication A: [10, 12, 14, 11, 13]\n",
    "   - Medication B: [15, 17, 16, 14, 18]\n",
    "   \n",
    "Perform an analysis of variance (ANOVA) to determine if there is a significant difference in the mean recovery times between the two medications."
   ]
  },
  {
   "cell_type": "code",
   "execution_count": null,
   "id": "b4c6bda1",
   "metadata": {},
   "outputs": [],
   "source": []
  },
  {
   "cell_type": "markdown",
   "id": "3e441553",
   "metadata": {},
   "source": [
    "**Ques10** Scenario: A company wants to analyze customer feedback ratings on a scale of 1 to 10. The data collected is as follows:\n",
    "    [8, 9, 7, 6, 8, 10, 9, 8, 7, 8]\n",
    "    \n",
    " Calculate the 75th percentile of the feedback ratings."
   ]
  },
  {
   "cell_type": "code",
   "execution_count": 32,
   "id": "f57183ae",
   "metadata": {},
   "outputs": [
    {
     "name": "stdout",
     "output_type": "stream",
     "text": [
      "the 75th percentile of the feedback ratings is : 8.75\n"
     ]
    }
   ],
   "source": [
    "feedback = [8, 9, 7, 6, 8, 10, 9, 8, 7, 8]\n",
    "print(f\"the 75th percentile of the feedback ratings is : {np.percentile(feedback,[75])[0]}\")"
   ]
  },
  {
   "cell_type": "markdown",
   "id": "3da18b51",
   "metadata": {},
   "source": [
    "**Ques11** Scenario: A quality control department wants to test the weight consistency of a product. The weights of a sample of products are as follows:\n",
    "    [10.2, 9.8, 10.0, 10.5, 10.3, 10.1]\n",
    "    \n",
    " Perform a hypothesis test to determine if the mean weight differs significantly from 10 grams."
   ]
  },
  {
   "cell_type": "code",
   "execution_count": 11,
   "id": "c56e5ee4",
   "metadata": {},
   "outputs": [
    {
     "name": "stdout",
     "output_type": "stream",
     "text": [
      "T-statistic: 1.5126584522688367\n",
      "P-value: 0.19077595151110102\n",
      "fail to reject the null hypothesis\n"
     ]
    }
   ],
   "source": [
    "import numpy as np\n",
    "from scipy import stats\n",
    "import statsmodels.api as sm\n",
    "\n",
    "# H0 => mean of sample = 10\n",
    "# H1 => mean of sample != 10\n",
    "\n",
    "sample_data = np.array([10.2,9.8, 10.0, 10.5, 10.3, 10.1])\n",
    "population_mean = 10\n",
    "significane = 0.05\n",
    "\n",
    "z_stat, p_value = stats.ttest_1samp(sample_data,population_mean)\n",
    "\n",
    "print(\"T-statistic:\", z_stat)\n",
    "print(\"P-value:\", p_value)\n",
    "\n",
    "if(p_value > significane) :\n",
    "    print(\"fail to reject the null hypothesis\")\n",
    "else :\n",
    "    print(\"reject the null hypothesis\")"
   ]
  },
  {
   "cell_type": "markdown",
   "id": "2dee5155",
   "metadata": {},
   "source": [
    "**Ques12** Scenario: A company wants to analyze the click-through rates of two different website designs. The number of clicks for each design is as follows:\n",
    "   -  Design A: [100, 120, 110, 90, 95]\n",
    "   -  Design B: [80, 85, 90, 95, 100]\n",
    "    \n",
    " Perform a chi-square test to determine if there is a significant difference in the click-through rates between the two designs."
   ]
  },
  {
   "cell_type": "code",
   "execution_count": 19,
   "id": "d711b6a2",
   "metadata": {},
   "outputs": [
    {
     "name": "stdout",
     "output_type": "stream",
     "text": [
      "Chi-sq stats: 6.110658166925435\n",
      "p_value : 0.19103526314060293\n",
      "Dof : 4\n",
      "expected : \n",
      "[[ 96.06217617 109.40414508 106.7357513   98.73056995 104.06735751]\n",
      " [ 83.93782383  95.59585492  93.2642487   86.26943005  90.93264249]]\n",
      "\n",
      "\n",
      "fail to reject the null hypothesis\n"
     ]
    }
   ],
   "source": [
    "# H0 => there is no significance diff between the designs\n",
    "# H1 => there is a significance diff between the designs\n",
    "\n",
    "design_a = np.array([100, 120, 110, 90, 95])\n",
    "design_b = np.array([80, 85, 90, 95, 100])\n",
    "significance = 0.05\n",
    "\n",
    "observed = np.array([design_a,design_b])\n",
    "\n",
    "chi_stats , p_value , dof, expected = stats.chi2_contingency(observed)\n",
    "\n",
    "print(f\"Chi-sq stats: {chi_stats}\")\n",
    "print(f\"p_value : {p_value}\")\n",
    "print(f\"Dof : {dof}\")\n",
    "print(f\"expected : \\n{expected}\\n\\n\")\n",
    "\n",
    "if(p_value > significance) :\n",
    "    print(\"fail to reject the null hypothesis\")\n",
    "else :\n",
    "    print(\"reject the null hypothesis\")"
   ]
  },
  {
   "cell_type": "markdown",
   "id": "3e157a4a",
   "metadata": {},
   "source": [
    "**Ques13** Scenario: A survey is conducted to measure customer satisfaction with a product on a scale of 1 to 10. The data collected is as follows:\n",
    "    [7, 9, 6, 8, 10, 7, 8, 9, 7, 8]\n",
    " <br>Calculate the 95% confidence interval for the population mean satisfaction score."
   ]
  },
  {
   "cell_type": "code",
   "execution_count": 20,
   "id": "1463a6fd",
   "metadata": {},
   "outputs": [
    {
     "name": "stdout",
     "output_type": "stream",
     "text": [
      "95% Confidence Interval: (7.043561120599888, 8.756438879400113)\n"
     ]
    }
   ],
   "source": [
    "import numpy as np\n",
    "from scipy.stats import t\n",
    "\n",
    "data = np.array([7, 9, 6, 8, 10, 7, 8, 9, 7, 8])\n",
    "\n",
    "sample_mean = np.mean(data)\n",
    "sample_std = np.std(data, ddof=1)\n",
    "\n",
    "n = len(data)\n",
    "df = n - 1\n",
    "alpha = 0.05\n",
    "t_critical = t.ppf(1 - alpha/2, df)\n",
    "\n",
    "margin_of_error = t_critical * (sample_std / np.sqrt(n))\n",
    "\n",
    "lower_bound = sample_mean - margin_of_error\n",
    "upper_bound = sample_mean + margin_of_error\n",
    "\n",
    "confidence_interval = (lower_bound, upper_bound)\n",
    "\n",
    "print(\"95% Confidence Interval:\", confidence_interval)"
   ]
  },
  {
   "cell_type": "markdown",
   "id": "cc66f58f",
   "metadata": {},
   "source": [
    "**Ques14**Scenario: A company wants to analyze the effect of temperature on product performance. The data collected is as follows:<br>\n",
    "    Temperature (in degrees Celsius): [20, 22, 23, 19, 21]<br>\n",
    "    Performance (on a scale of 1 to 10): [8, 7, 9, 6, 8]<br>\n",
    "    Perform a simple linear regression to predict performance based on temperature."
   ]
  },
  {
   "cell_type": "code",
   "execution_count": 19,
   "id": "47c95bce",
   "metadata": {},
   "outputs": [
    {
     "name": "stdout",
     "output_type": "stream",
     "text": [
      "Intercept : -2.8999999999999986\n",
      "Slope : 0.4999999999999999\n",
      "\n",
      "for temprature 25 the performance will be 9\n",
      "for temprature 21 the performance will be 7\n",
      "for temprature 27 the performance will be 10\n"
     ]
    }
   ],
   "source": [
    "from sklearn.linear_model import LinearRegression\n",
    "\n",
    "temp = np.array([20,22,23,19,21]).reshape(-1,1)\n",
    "performance = [8,7,9,6,8]\n",
    "\n",
    "model = LinearRegression()\n",
    "model.fit(temp,performance)\n",
    "\n",
    "print(f\"Intercept : {model.intercept_}\")\n",
    "print(f\"Slope : {model.coef_[0]}\")\n",
    "\n",
    "temp_new = np.array([25,21,27]).reshape(-1,1)\n",
    "y_pred = model.predict(temp_new)\n",
    "print()\n",
    "\n",
    "for i,j in zip(temp_new,y_pred):\n",
    "    print(f\"for temprature {i[0]} the performance will be {int(j)}\")"
   ]
  },
  {
   "cell_type": "markdown",
   "id": "3eb96915",
   "metadata": {},
   "source": [
    "**Ques15** Scenario: A study is conducted to compare the preferences of two groups of participants. The preferences are measured on a Likert scale from 1 to 5. The data collected is as follows:\n",
    "\n",
    "    Group A: [4, 3, 5, 2, 4]\n",
    "    Group B: [3, 2, 4, 3, 3]\n",
    "    \n",
    "Perform a Mann-Whitney U test to determine if there is a significant difference in the median preferences between the two groups."
   ]
  },
  {
   "cell_type": "code",
   "execution_count": 23,
   "id": "262374ed",
   "metadata": {},
   "outputs": [
    {
     "name": "stdout",
     "output_type": "stream",
     "text": [
      "Test Statics : 17.0\n",
      "p-value : 0.380836480306712\n",
      "\n",
      "fail to reject null hypothseis at 5% siginifance\n"
     ]
    }
   ],
   "source": [
    "# H0 => median_group_a = median_group_b\n",
    "# H1 => median_group_b = median_group_b\n",
    "\n",
    "group_a = [4,3,5,2,4]\n",
    "group_b = [3,2,4,3,3]\n",
    "\n",
    "test_stats , p_value = stats.mannwhitneyu(group_a,group_b)\n",
    "\n",
    "print(f\"Test Statics : {test_stats}\")\n",
    "print(f\"p-value : {p_value}\\n\")\n",
    "\n",
    "if p_value > 0.05:\n",
    "    print(f\"fail to reject null hypothseis at 5% siginifance\")\n",
    "else :\n",
    "    print(f\"reject null hypothseis at 5% siginifance\")"
   ]
  },
  {
   "cell_type": "markdown",
   "id": "d448c8c8",
   "metadata": {},
   "source": [
    "**Ques16** Scenario: A company wants to analyze the distribution of customer ages. The data collected is as follows:\n",
    "    [25, 30, 35, 40, 45, 50, 55, 60, 65, 70]\n",
    "    <br>Calculate the interquartile range (IQR) of the ages."
   ]
  },
  {
   "cell_type": "code",
   "execution_count": 25,
   "id": "dd7a383b",
   "metadata": {},
   "outputs": [
    {
     "name": "stdout",
     "output_type": "stream",
     "text": [
      "IQR : 22.5\n"
     ]
    }
   ],
   "source": [
    "data = [25, 30, 35, 40, 45, 50, 55, 60, 65, 70]\n",
    "\n",
    "result = np.quantile(data,[0,0.25,0.5,0.75,1])\n",
    "\n",
    "iqr = result[3] - result[1]\n",
    "\n",
    "print(f\"IQR : {iqr}\")"
   ]
  },
  {
   "cell_type": "markdown",
   "id": "361ee986",
   "metadata": {},
   "source": [
    "**Ques17** Scenario: A study is conducted to compare the performance of three different machine learning algorithms. The accuracy scores for each algorithm are as follows:\n",
    "\n",
    "    Algorithm A: [0.85, 0.80, 0.82, 0.87, 0.83]\n",
    "    Algorithm B: [0.78, 0.82, 0.84, 0.80, 0.79]\n",
    "    Algorithm C: [0.90, 0.88, 0.89, 0.86, 0.87]\n",
    "    \n",
    "Perform a Kruskal-Wallis test to determine if there is a significant difference in the median accuracy scores between the algorithms."
   ]
  },
  {
   "cell_type": "code",
   "execution_count": 36,
   "id": "1ccd9ad4",
   "metadata": {},
   "outputs": [
    {
     "name": "stdout",
     "output_type": "stream",
     "text": [
      "There is no significant difference in the median accuracy scores between the algorithms.\n"
     ]
    }
   ],
   "source": [
    "from scipy.stats import chi2\n",
    "\n",
    "# Accuracy scores for each algorithm\n",
    "scores_A = [0.85, 0.80, 0.82, 0.87, 0.83]\n",
    "scores_B = [0.78, 0.82, 0.84, 0.80, 0.79]\n",
    "scores_C = [0.90, 0.88, 0.89, 0.86, 0.87]\n",
    "\n",
    "# Combine all scores into a single dataset\n",
    "all_scores = scores_A + scores_B + scores_C\n",
    "\n",
    "# Rank the combined dataset\n",
    "ranked_scores = sorted(range(len(all_scores)), key=lambda k: all_scores[k])\n",
    "ranks = [rank+1 for rank in ranked_scores]\n",
    "\n",
    "# Calculate the sum of ranks for each algorithm\n",
    "sum_of_ranks_A = sum(ranks[:len(scores_A)])\n",
    "sum_of_ranks_B = sum(ranks[len(scores_A):len(scores_A)+len(scores_B)])\n",
    "sum_of_ranks_C = sum(ranks[len(scores_A)+len(scores_B):])\n",
    "\n",
    "# Calculate the mean rank for each algorithm\n",
    "mean_rank_A = sum_of_ranks_A / len(scores_A)\n",
    "mean_rank_B = sum_of_ranks_B / len(scores_B)\n",
    "mean_rank_C = sum_of_ranks_C / len(scores_C)\n",
    "\n",
    "# Calculate the Kruskal-Wallis H statistic\n",
    "N = len(all_scores)\n",
    "H = (12 / (N*(N+1))) * (sum_of_ranks_A**2 / len(scores_A) + sum_of_ranks_B**2 / len(scores_B) + sum_of_ranks_C**2 / len(scores_C)) - 3 * (N+1)\n",
    "\n",
    "# Calculate the degrees of freedom (df)\n",
    "k = 3  # Number of groups (algorithms)\n",
    "df = k - 1\n",
    "\n",
    "# Calculate the p-value\n",
    "p_value = 1 - chi2.cdf(H, df)\n",
    "\n",
    "# Compare the p-value to the significance level\n",
    "alpha = 0.05\n",
    "\n",
    "if p_value < alpha:\n",
    "    print(\"There is a significant difference in the median accuracy scores between the algorithms.\")\n",
    "else:\n",
    "    print(\"There is no significant difference in the median accuracy scores between the algorithms.\")\n"
   ]
  },
  {
   "cell_type": "markdown",
   "id": "97dced11",
   "metadata": {},
   "source": [
    "**Ques18** Scenario: A company wants to analyze the effect of price on sales. The data collected is as follows:\n",
    "\n",
    "    Price (in dollars): [10, 15, 12, 8, 14]\n",
    "    Sales: [100, 80, 90, 110, 95]\n",
    "    \n",
    "   Perform a simple linear regression to predict sales based on price."
   ]
  },
  {
   "cell_type": "code",
   "execution_count": 28,
   "id": "08795484",
   "metadata": {},
   "outputs": [
    {
     "name": "stdout",
     "output_type": "stream",
     "text": [
      "Intercept : 136.3719512195122\n",
      "Slope : -3.5060975609756095\n",
      "\n",
      "for temprature 25 the performance will be 48\n",
      "for temprature 21 the performance will be 62\n",
      "for temprature 27 the performance will be 41\n"
     ]
    }
   ],
   "source": [
    "price = np.array([10, 15, 12, 8, 14]).reshape(-1,1)\n",
    "sales = [100, 80, 90, 110, 95]\n",
    "\n",
    "model = LinearRegression()\n",
    "model.fit(price,sales)\n",
    "\n",
    "print(f\"Intercept : {model.intercept_}\")\n",
    "print(f\"Slope : {model.coef_[0]}\")\n",
    "\n",
    "price_new = np.array([25,21,27]).reshape(-1,1)\n",
    "y_pred = model.predict(price_new)\n",
    "print()\n",
    "\n",
    "for i,j in zip(price_new,y_pred):\n",
    "    print(f\"for temprature {i[0]} the performance will be {int(j)}\")"
   ]
  },
  {
   "cell_type": "markdown",
   "id": "c9f528a1",
   "metadata": {},
   "source": [
    "**Ques19** Scenario: A survey is conducted to measure the satisfaction levels of customers with a new product. <br>The data collected is as follows:[7, 8, 9, 6, 8, 7, 9, 7, 8, 7]\n",
    "    <br>\n",
    "   Calculate the standard error of the mean satisfaction score."
   ]
  },
  {
   "cell_type": "code",
   "execution_count": 29,
   "id": "13f751b1",
   "metadata": {},
   "outputs": [
    {
     "name": "stdout",
     "output_type": "stream",
     "text": [
      "Standard Error of the Mean: 0.30550504633038933\n"
     ]
    }
   ],
   "source": [
    "import numpy as np\n",
    "\n",
    "data = np.array([7, 8, 9, 6, 8, 7, 9, 7, 8, 7])\n",
    "\n",
    "sample_std = np.std(data, ddof=1)\n",
    "n = len(data)\n",
    "\n",
    "standard_error = sample_std / np.sqrt(n)\n",
    "\n",
    "print(\"Standard Error of the Mean:\", standard_error)"
   ]
  },
  {
   "cell_type": "markdown",
   "id": "6010baad",
   "metadata": {},
   "source": [
    "**Ques20** Scenario: A company wants to analyze the relationship between advertising expenditure and sales. The data collected is as follows:\n",
    "\n",
    "    Advertising Expenditure (in thousands): [10, 15, 12, 8, 14]\n",
    "    Sales (in thousands): [25, 30, 28, 20, 26]\n",
    "   \n",
    "Perform a multiple regression analysis to predict sales based on advertising expenditure."
   ]
  },
  {
   "cell_type": "code",
   "execution_count": 35,
   "id": "bc7cbc45",
   "metadata": {},
   "outputs": [
    {
     "name": "stdout",
     "output_type": "stream",
     "text": [
      "Intercept : 136.3719512195122\n",
      "Slope : -3.5060975609756095\n",
      "\n",
      "for temprature 7 the performance will be 111\n",
      "for temprature 25 the performance will be 48\n"
     ]
    }
   ],
   "source": [
    "from sklearn.linear_model import LinearRegression\n",
    "\n",
    "ads = np.array([10, 15, 12, 8, 14]).reshape(-1,1)\n",
    "sales = [100, 80, 90, 110, 95]\n",
    "\n",
    "model = LinearRegression()\n",
    "model.fit(ads,sales)\n",
    "\n",
    "print(f\"Intercept : {model.intercept_}\")\n",
    "print(f\"Slope : {model.coef_[0]}\")\n",
    "\n",
    "ads_new = np.array([7,25]).reshape(-1,1)\n",
    "y_pred = model.predict(ads_new)\n",
    "print()\n",
    "\n",
    "for i,j in zip(ads_new,y_pred):\n",
    "    print(f\"for temprature {i[0]} the performance will be {int(j)}\")"
   ]
  },
  {
   "cell_type": "code",
   "execution_count": null,
   "id": "496bb2f9",
   "metadata": {},
   "outputs": [],
   "source": []
  }
 ],
 "metadata": {
  "kernelspec": {
   "display_name": "Python 3 (ipykernel)",
   "language": "python",
   "name": "python3"
  },
  "language_info": {
   "codemirror_mode": {
    "name": "ipython",
    "version": 3
   },
   "file_extension": ".py",
   "mimetype": "text/x-python",
   "name": "python",
   "nbconvert_exporter": "python",
   "pygments_lexer": "ipython3",
   "version": "3.10.6"
  }
 },
 "nbformat": 4,
 "nbformat_minor": 5
}
